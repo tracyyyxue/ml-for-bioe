{
 "cells": [
  {
   "cell_type": "markdown",
   "metadata": {},
   "source": [
    "# Week 3: Fitting\n",
    "\n",
    "In many different cases, we might have a model for how a system works, and want to fit that model to a set of observations. \n",
    "\n",
    "We're going to investigate the process of fitting using a classic paper that proposed a model for the [T cell receptor](https://www.ncbi.nlm.nih.gov/pubmed/11606269). Here, the authors develop a mathematical model for how binding occurs and then have observations of how much binding occurs under specific conditions. Identifying whether and how this model fits has led to a better understanding of how our immune system recognizes diseased cells, and how to design T cells that respond to diseases like cancer."
   ]
  },
  {
   "cell_type": "code",
   "execution_count": 1,
   "metadata": {},
   "outputs": [],
   "source": [
    "%matplotlib inline\n",
    "\n",
    "import matplotlib.pyplot as plt\n",
    "import numpy as np\n",
    "from scipy.special import binom\n",
    "from scipy.optimize import least_squares\n",
    "\n",
    "np.seterr(over='raise')\n",
    "\n",
    "def StoneMod(Rtot, Kd, v, Kx, L0): # x = Lo, v = valency, y = , Rtot = 24000, pick out Kd Kx from table\n",
    "    '''\n",
    "    Returns the number of mutlivalent ligand bound to a cell with Rtot\n",
    "    receptors, granted each epitope of the ligand binds to the receptor\n",
    "    kind in question with dissociation constant Kd and cross-links with\n",
    "    other receptors with crosslinking constant Kx. All eq derived from Stone et al. (2001).\n",
    "    '''\n",
    "    v = np.int_(v)\n",
    "    \n",
    "    assert L0.shape == v.shape\n",
    "    \n",
    "    # Mass balance for receptor species, to identify the amount of free receptor\n",
    "    diffFunAnon = lambda x: Rtot-x*(1+v*L0*(1/Kd)*(1+Kx*x)**(v-1))\n",
    "    \n",
    "    ## Solve Req by calling least_squares\n",
    "    lsq = least_squares(diffFunAnon, np.full_like(L0, Rtot/2.0), jac_sparsity=np.eye(L0.size),\n",
    "                        max_nfev=1000, xtol=1.0E-10, ftol=1.0E-10, gtol=1.0E-10,\n",
    "                        bounds=(np.full_like(L0, -np.finfo(float).eps), np.full_like(L0, Rtot)))\n",
    "    if lsq['cost'] > 1.0E-8:\n",
    "        print(lsq)\n",
    "        raise RuntimeError(\"Failure in solving for Req.\")\n",
    "        \n",
    "    Req = lsq.x\n",
    "    Lbound = np.zeros(Req.size)\n",
    "    Rmulti = np.zeros(Req.size)\n",
    "    Rbnd = np.zeros(Req.size)\n",
    "    \n",
    "    for ii, Reqq in enumerate(Req):\n",
    "        # Calculate vieq from equation 1\n",
    "        vieq = L0[ii]*Reqq*binom(v[ii], np.arange(1, v[ii] + 1))*np.power(Kx*Reqq, np.arange(v[ii]))/Kd\n",
    "\n",
    "        # Calculate L, according to equation 7\n",
    "        Lbound[ii] = np.sum(vieq)\n",
    "\n",
    "        # Calculate Rmulti from equation 5\n",
    "        Rmulti[ii] = np.dot(vieq[1:], np.arange(2, v[ii] + 1, dtype=np.float))\n",
    "\n",
    "        # Calculate Rbound\n",
    "        Rbnd[ii] = Rmulti[ii] + vieq[0]\n",
    "\n",
    "    return (Lbound, Rbnd, Rmulti)\n",
    "\n",
    "Xs = np.array([8.1E-11, 3.4E-10, 1.3E-09, 5.7E-09, 2.1E-08, 8.7E-08, 3.4E-07, 1.5E-06, 5.7E-06, 2.82E-11, 1.17E-10, 4.68E-10, 1.79E-09, 7.16E-09, 2.87E-08, 1.21E-07, 4.5E-07, 1.87E-06, 1.64E-11, 6.93E-11, 2.58E-10, 1.11E-09, 4.35E-09, 1.79E-08, 7.38E-08, 2.9E-07, 1.14E-06])\n",
    "Ys = np.array([-196, -436, 761, 685, 3279, 7802, 11669, 12538, 9012, -1104, -769, 1455, 2693, 7134, 11288, 14498, 16188, 13237, 988, 1734, 4491, 9015, 13580, 17159, 18438, 18485, 17958])\n",
    "Vs = np.repeat([2, 3, 4], 9)"
   ]
  },
  {
   "cell_type": "markdown",
   "metadata": {},
   "source": [
    "#### (1) We will fit the data contained within Fig. 3B. Plot this data and describe the relationship you see between Kx, Kd, and valency."
   ]
  },
  {
   "cell_type": "code",
   "execution_count": 24,
   "metadata": {
    "inputHidden": false,
    "outputHidden": false
   },
   "outputs": [
    {
     "data": {
      "text/plain": [
       "Text(0, 0.5, 'CD3 (cm^-1)')"
      ]
     },
     "execution_count": 24,
     "metadata": {},
     "output_type": "execute_result"
    },
    {
     "data": {
      "image/png": "[encoded data removed]",
      "text/plain": [
       "<Figure size 640x480 with 1 Axes>"
      ]
     },
     "metadata": {},
     "output_type": "display_data"
    }
   ],
   "source": [
    "plt.xscale('log')\n",
    "Vs # upon visualizing Vs - realize that every 9 points correspond to one data set\n",
    "plt.scatter(Xs[range(0,8)],Ys[range(0,8)]);\n",
    "plt.scatter(Xs[range(9,18)],Ys[range(9,18)]);\n",
    "plt.scatter(Xs[range(18,27)],Ys[range(18,27)]);\n",
    "plt.xlabel('concentration of oligomer (M)')\n",
    "plt.ylabel('CD3 (cm^-1)')"
   ]
  },
  {
   "cell_type": "markdown",
   "metadata": {},
   "source": [
    "#### (2) First, to do so, we'll need a function that takes the model predictions, scales them to the units of the actual measurements, and finds the predictions for each condition. Define a scaling parameter and a function that takes it along with the other parameters to make predictions about the experiment.\n",
    "\n",
    "Use the fit parameters shown in Table 1 (row 2) and overlay with the measurements to ensure your function is working. (Scale = 1 for now.)"
   ]
  },
  {
   "cell_type": "code",
   "execution_count": null,
   "metadata": {
    "inputHidden": false,
    "outputHidden": false
   },
   "outputs": [],
   "source": [
    "\n",
    "StoneMod(Rtot, Kd, v, Kx, L0);"
   ]
  },
  {
   "cell_type": "markdown",
   "metadata": {},
   "source": [
    "#### (3) Now use `scipy.optimize.least_squares` to find the least squares solution."
   ]
  },
  {
   "cell_type": "code",
   "execution_count": null,
   "metadata": {
    "inputHidden": false,
    "outputHidden": false
   },
   "outputs": [],
   "source": [
    "# Answer"
   ]
  },
  {
   "cell_type": "markdown",
   "metadata": {},
   "source": [
    "#### (4) Using leave-one-out crossvalidation, does this model predict the data? Plot the measured vs. predicted data."
   ]
  },
  {
   "cell_type": "code",
   "execution_count": null,
   "metadata": {},
   "outputs": [],
   "source": [
    "# Answer"
   ]
  },
  {
   "cell_type": "markdown",
   "metadata": {},
   "source": [
    "#### (5) Using bootstrap estimation, plot the confidence interval of the model predictions along with the data points.\n",
    "\"Confidence interval\" does not have a precise definition. For example, you could show the interval over which 50% of the bootstrap samples fall (25th to 75th quantile)."
   ]
  },
  {
   "cell_type": "code",
   "execution_count": null,
   "metadata": {},
   "outputs": [],
   "source": [
    "# Answer"
   ]
  },
  {
   "cell_type": "markdown",
   "metadata": {},
   "source": [
    "#### (6) How would you expect the cross-validation and bootstrap results to change if you had fewer data points?\n",
    "\n",
    "Explain your answer."
   ]
  },
  {
   "cell_type": "markdown",
   "metadata": {},
   "source": [
    "Answer."
   ]
  },
  {
   "cell_type": "markdown",
   "metadata": {},
   "source": [
    "#### (7) Now, we will perform a local sensitivity analysis to look at the dependence of the model results on each parameter. Vary each parameter up and down by 10-fold **while holding the others constant**, and plot the sum of squared error. Which parameter influences the fit the most? Which one the least?"
   ]
  },
  {
   "cell_type": "code",
   "execution_count": null,
   "metadata": {
    "inputHidden": false,
    "outputHidden": false
   },
   "outputs": [],
   "source": [
    "# Answer"
   ]
  },
  {
   "cell_type": "markdown",
   "metadata": {},
   "source": [
    "#### (8) While easier to perform, a local sensitivity analysis ignores codependency between the parameters. Do you anticipate your predictions of the parameter values will be more or less specified with a global analysis?"
   ]
  },
  {
   "cell_type": "markdown",
   "metadata": {},
   "source": [
    "Answer."
   ]
  },
  {
   "cell_type": "markdown",
   "metadata": {},
   "source": [
    "#### (9) Now, vary each parameter from the optimal solution, *allowing the other parameters to vary*. Was your prediction true? How might the other parameters be varying when $K_d$ increases?\n",
    "\n",
    "Hint: The easiest way to do this is mess with the bounds of the least squares solver."
   ]
  },
  {
   "cell_type": "code",
   "execution_count": null,
   "metadata": {
    "inputHidden": false,
    "outputHidden": false
   },
   "outputs": [],
   "source": [
    "# Answer"
   ]
  },
  {
   "cell_type": "markdown",
   "metadata": {},
   "source": [
    "#### (10) At the same time as providing the number of multimerized receptors, the model also infers the quantities of other properties, such as the amount of ligand and receptor bound. Using the bootstrap estimates, plot the confidence in these other parameters."
   ]
  },
  {
   "cell_type": "code",
   "execution_count": null,
   "metadata": {},
   "outputs": [],
   "source": [
    "# Answer"
   ]
  }
 ],
 "metadata": {
  "kernel_info": {
   "name": "python3"
  },
  "kernelspec": {
   "display_name": "Python 3",
   "language": "python",
   "name": "python3"
  },
  "language_info": {
   "codemirror_mode": {
    "name": "ipython",
    "version": 3
   },
   "file_extension": ".py",
   "mimetype": "text/x-python",
   "name": "python",
   "nbconvert_exporter": "python",
   "pygments_lexer": "ipython3",
   "version": "3.11.5"
  },
  "nteract": {
   "version": "0.6.2"
  }
 },
 "nbformat": 4,
 "nbformat_minor": 2
}
